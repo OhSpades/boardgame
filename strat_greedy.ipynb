{
 "cells": [
  {
   "cell_type": "code",
   "execution_count": null,
   "id": "b60775da",
   "metadata": {},
   "outputs": [],
   "source": [
    "import math\n",
    "\n",
    "\n",
    "def greedy(board, all_legal_moves, obj_set, player_turn):\n",
    "\n",
    "    obj_available = []\n",
    "\n",
    "    for pos in obj_set:\n",
    "        [x, y] = pos\n",
    "        if board[x][y] != player_turn:\n",
    "            obj_available.append([x, y])\n",
    "\n",
    "    max_distance_metric = 0\n",
    "    move_index = 0\n",
    "    best_move = 0\n",
    "\n",
    "    for move in all_legal_moves:\n",
    "\n",
    "        [start_x, start_y] = move[0]\n",
    "        [end_x, end_y] = move[1]\n",
    "\n",
    "        for obj in obj_available:\n",
    "\n",
    "            [obj_x, obj_y] = obj\n",
    "\n",
    "            # trasform y coord thinking about the board as a square, which it should be\n",
    "            square_start_y = (start_y * 14.43) / 25\n",
    "            square_end_y = (end_y * 14.43) / 25\n",
    "            square_obj_y = (obj_y * 14.43) / 25\n",
    "\n",
    "            start_diag = math.sqrt(((obj_x - start_x) ** 2) + ((square_obj_y - square_start_y) ** 2))\n",
    "            end_diag = math.sqrt(((obj_x - end_x) ** 2) + ((square_obj_y - square_end_y) ** 2))\n",
    "\n",
    "            distance_travel = start_diag - end_diag\n",
    "            distance_metric = distance_travel + start_diag * 0.5\n",
    "\n",
    "            if distance_metric > max_distance_metric:\n",
    "                best_move = move_index\n",
    "                max_distance_metric = distance_metric\n",
    "\n",
    "        move_index = move_index + 1\n",
    "\n",
    "    return all_legal_moves[best_move]\n",
    "\n",
    "\n",
    "\n"
   ]
  }
 ],
 "metadata": {
  "kernelspec": {
   "display_name": "Python 3 (ipykernel)",
   "language": "python",
   "name": "python3"
  },
  "language_info": {
   "codemirror_mode": {
    "name": "ipython",
    "version": 3
   },
   "file_extension": ".py",
   "mimetype": "text/x-python",
   "name": "python",
   "nbconvert_exporter": "python",
   "pygments_lexer": "ipython3",
   "version": "3.7.13"
  }
 },
 "nbformat": 4,
 "nbformat_minor": 5
}
